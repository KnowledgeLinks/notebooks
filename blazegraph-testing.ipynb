{
 "cells": [
  {
   "cell_type": "markdown",
   "metadata": {},
   "source": [
    "# Testing AssertionForm/NewForm.html with standalone Blazegraph and Docker images:\n",
    "\n",
    "\n",
    "In Docker container jermnelson/semantic-server-core:new:\n",
    "<pre>\n",
    "|-------- formTest [Time Log Calculation]-----------------|\n",
    "StartDiff       LastNodeDiff    NodeName\n",
    "0.0             0.0             form render start for: AssertionForm/NewForm\n",
    "8402.0          8402.0          End test form path\n",
    "8402.0          0.0             initial form creation start\n",
    "8402.5          0.5             initial form creation end\n",
    "8402.5          0.0             start non post testing\n",
    "8402.5          0.0             end non post testing\n",
    "8402.5          0.0             create form class start\n",
    "8403.0          0.5             create form class end\n",
    "8403.0          0.0             start query options load\n",
    "8409.5          6.5             ----Sending query to triplestore\n",
    "9437.7          1028.1          ----Recieved query from triplestore\n",
    "9444.2          6.5             ----Sending query to triplestore\n",
    "10493.3         1049.1          ----Recieved query from triplestore\n",
    "10493.3         0.0             end query options load\n",
    "10564.3         71.0            template rendered\n",
    "|------------------------------------------------------------|\n",
    "</pre>\n",
    "\n",
    "Standalone Blazegraph server:\n",
    "<pre>\n",
    "Name,', ',?givenName) AS ?name) } ORDER BY ?name\n",
    "|-------- formTest [Time Log Calculation]-----------------|\n",
    "StartDiff       LastNodeDiff    NodeName\n",
    "0.0             0.0             form render start for: AssertionForm/NewForm\n",
    "6109.0          6109.0          End test form path\n",
    "6109.0          0.0             initial form creation start\n",
    "6109.5          0.5             initial form creation end\n",
    "6109.5          0.0             start non post testing\n",
    "6109.5          0.0             end non post testing\n",
    "6109.5          0.0             create form class start\n",
    "6110.0          0.5             create form class end\n",
    "6110.0          0.0             start query options load\n",
    "6111.0          1.0             ----Sending query to triplestore\n",
    "6147.5          36.5            ----Recieved query from triplestore\n",
    "6154.5          7.0             ----Sending query to triplestore\n",
    "6199.0          44.5            ----Recieved query from triplestore\n",
    "6199.5          0.5             end query options load\n",
    "6360.5          161.0           template rendered\n",
    "|------------------------------------------------------------|\n",
    "</pre>"
   ]
  },
  {
   "cell_type": "markdown",
   "metadata": {},
   "source": [
    "# Testing \n",
    "## Using Windows 7 running Docker on Linux through VirtualBox"
   ]
  },
  {
   "cell_type": "code",
   "execution_count": 4,
   "metadata": {
    "collapsed": false
   },
   "outputs": [
    {
     "data": {
      "text/plain": [
       "3.3592334016648238"
      ]
     },
     "execution_count": 4,
     "metadata": {},
     "output_type": "execute_result"
    }
   ],
   "source": [
    "import timeit\n",
    "timeit.timeit(stmt=\"\"\"requests.post(\n",
    "\t\"http://li-b82p6v1-1208:9999/blazegraph/sparql\",\n",
    "\tdata={\"query\": \"SELECT DISTINCT ?s ?p ?o WHERE { ?s ?p ?o .}\",\n",
    "\t      \"format\": \"json\"})\"\"\",\n",
    "\t      setup=\"import requests\",\n",
    "\t      number=100)"
   ]
  },
  {
   "cell_type": "code",
   "execution_count": 2,
   "metadata": {
    "collapsed": false
   },
   "outputs": [
    {
     "data": {
      "text/plain": [
       "408.8067064240375"
      ]
     },
     "execution_count": 2,
     "metadata": {},
     "output_type": "execute_result"
    }
   ],
   "source": [
    "import timeit\n",
    "timeit.timeit(stmt=\"\"\"requests.post(\n",
    "\t\"http://li-b82p6v1-1208:8080/bigdata/sparql\",\n",
    "\tdata={\"query\": \"SELECT DISTINCT ?s ?p ?o WHERE { ?s ?p ?o .}\",\n",
    "\t      \"format\": \"json\"})\"\"\",\n",
    "\t      setup=\"import requests\",\n",
    "\t      number=100)"
   ]
  },
  {
   "cell_type": "code",
   "execution_count": 3,
   "metadata": {
    "collapsed": false
   },
   "outputs": [
    {
     "name": "stdout",
     "output_type": "stream",
     "text": [
      "Using Blazegraph 2.0 in a standalone Docker container\n"
     ]
    },
    {
     "data": {
      "text/plain": [
       "408.5628865995054"
      ]
     },
     "execution_count": 3,
     "metadata": {},
     "output_type": "execute_result"
    }
   ],
   "source": [
    "print(\"Using Blazegraph 2.0 in a standalone Docker container\")\n",
    "timeit.timeit(stmt=\"\"\"requests.post(\n",
    "\t\"http://li-b82p6v1-1208:9999/blazegraph/sparql\",\n",
    "\tdata={\"query\": \"SELECT DISTINCT ?s ?p ?o WHERE { ?s ?p ?o .}\",\n",
    "\t      \"format\": \"json\"})\"\"\",\n",
    "\t      setup=\"import requests\",\n",
    "\t      number=100)"
   ]
  },
  {
   "cell_type": "markdown",
   "metadata": {},
   "source": [
    "## Testing on MacOS X with Docker running Kitematic"
   ]
  },
  {
   "cell_type": "code",
   "execution_count": 2,
   "metadata": {
    "collapsed": false
   },
   "outputs": [
    {
     "name": "stdout",
     "output_type": "stream",
     "text": [
      "Using Blazegraph 2.0 in a standalone Docker container\n"
     ]
    },
    {
     "data": {
      "text/plain": [
       "5.75520802400024"
      ]
     },
     "execution_count": 2,
     "metadata": {},
     "output_type": "execute_result"
    }
   ],
   "source": [
    "import timeit\n",
    "print(\"Using Blazegraph 2.0 in a standalone Docker container\")\n",
    "timeit.timeit(stmt=\"\"\"requests.post(\n",
    "\t\"http://192.168.99.100:9999//blazegraph/sparql\",\n",
    "\tdata={\"query\": \"SELECT DISTINCT ?s ?p ?o WHERE { ?s ?p ?o .}\",\n",
    "\t      \"format\": \"json\"})\"\"\",\n",
    "\t      setup=\"import requests\",\n",
    "\t      number=100)"
   ]
  },
  {
   "cell_type": "code",
   "execution_count": 2,
   "metadata": {
    "collapsed": false
   },
   "outputs": [
    {
     "name": "stdout",
     "output_type": "stream",
     "text": [
      "Using Blazegraph 2.0 as a Tomcat war in Semantic Server Docker container\n"
     ]
    },
    {
     "data": {
      "text/plain": [
       "5.023603073999993"
      ]
     },
     "execution_count": 2,
     "metadata": {},
     "output_type": "execute_result"
    }
   ],
   "source": [
    "import timeit\n",
    "print(\"Using Blazegraph 2.0 as a Tomcat war in Semantic Server Docker container\")\n",
    "timeit.timeit(stmt=\"\"\"requests.post(\n",
    "\t\"http://localhost:8080/bigdata/sparql\",\n",
    "\tdata={\"query\": \"SELECT DISTINCT ?s ?p ?o WHERE { ?s ?p ?o .}\",\n",
    "\t      \"format\": \"json\"})\"\"\",\n",
    "\t      setup=\"import requests\",\n",
    "\t      number=100)"
   ]
  },
  {
   "cell_type": "markdown",
   "metadata": {
    "collapsed": true
   },
   "source": [
    "Output of AssertionForms/NewForm on MacOSX with Docker image `jermnelson/semantic-server-core:new`\n",
    "    \n",
    "<pre>\n",
    "|-------- formTest [Time Log Calculation]-----------------|\n",
    "StartDiff\tLastNodeDiff\tNodeName\n",
    "0.0\t\t0.0\t\tform render start for: AssertionForms/NewForm\n",
    "14956.9\t\t14956.9\t\tform render start for: AssertionForm/NewForm\n",
    "14956.9\t\t0.0\t\tEnd test form path\n",
    "14956.9\t\t0.0\t\tinitial form creation start\n",
    "14957.2\t\t0.3\t\tinitial form creation end\n",
    "14957.3\t\t0.0\t\tstart non post testing\n",
    "14957.3\t\t0.0\t\tend non post testing\n",
    "14957.3\t\t0.0\t\tcreate form class start\n",
    "14957.7\t\t0.4\t\tcreate form class end\n",
    "14957.7\t\t0.0\t\tstart query options load\n",
    "14957.9\t\t0.2\t\t----Sending query to triplestore\n",
    "15000.3\t\t42.4\t\t----Recieved query from triplestore\n",
    "15000.5\t\t0.1\t\t----Sending query to triplestore\n",
    "15032.3\t\t31.8\t\t----Recieved query from triplestore\n",
    "15032.4\t\t0.1\t\tend query options load\n",
    "15071.3\t\t38.9\t\ttemplate rendered\n",
    "|------------------------------------------------------------|\n",
    "</pre>"
   ]
  },
  {
   "cell_type": "code",
   "execution_count": null,
   "metadata": {
    "collapsed": true
   },
   "outputs": [],
   "source": []
  }
 ],
 "metadata": {
  "kernelspec": {
   "display_name": "Python 3",
   "language": "python",
   "name": "python3"
  },
  "language_info": {
   "codemirror_mode": {
    "name": "ipython",
    "version": 3
   },
   "file_extension": ".py",
   "mimetype": "text/x-python",
   "name": "python",
   "nbconvert_exporter": "python",
   "pygments_lexer": "ipython3",
   "version": "3.4.3"
  }
 },
 "nbformat": 4,
 "nbformat_minor": 0
}
